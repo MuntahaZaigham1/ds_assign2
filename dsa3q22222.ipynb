{
  "nbformat": 4,
  "nbformat_minor": 0,
  "metadata": {
    "colab": {
      "name": "Untitled10.ipynb",
      "provenance": [],
      "collapsed_sections": [],
      "authorship_tag": "ABX9TyPog/N/7R6FLzQS0/RHvfzE",
      "include_colab_link": true
    },
    "kernelspec": {
      "name": "python3",
      "display_name": "Python 3"
    }
  },
  "cells": [
    {
      "cell_type": "markdown",
      "metadata": {
        "id": "view-in-github",
        "colab_type": "text"
      },
      "source": [
        "<a href=\"https://colab.research.google.com/github/MuntahaZaigham1/ds_assign2/blob/master/dsa3q22222.ipynb\" target=\"_parent\"><img src=\"https://colab.research.google.com/assets/colab-badge.svg\" alt=\"Open In Colab\"/></a>"
      ]
    },
    {
      "cell_type": "code",
      "metadata": {
        "id": "g2CXe3c47YtY",
        "colab_type": "code",
        "colab": {}
      },
      "source": [
        "import numpy as np\n",
        "import matplotlib.pyplot as plt\n",
        "import pandas as pd\n",
        "import sklearn.linear_model \n",
        "from sklearn.linear_model import LogisticRegression\n",
        "#from sklearn.linear_model import LogisticRegression\n",
        "from sklearn.metrics import accuracy_score\n",
        "import random as rn\n",
        "from sklearn.model_selection import train_test_split\n",
        "import math"
      ],
      "execution_count": 0,
      "outputs": []
    },
    {
      "cell_type": "code",
      "metadata": {
        "id": "iakz0tOW7prr",
        "colab_type": "code",
        "colab": {}
      },
      "source": [
        "def load_data(path, header):\n",
        "    marks_df = pd.read_csv(path,delimiter='\\t', header=header)\n",
        "    return marks_df"
      ],
      "execution_count": 0,
      "outputs": []
    },
    {
      "cell_type": "code",
      "metadata": {
        "id": "6Bbj6Tq27yqr",
        "colab_type": "code",
        "colab": {}
      },
      "source": [
        "# load the data from the file\n",
        "iris_train1 = load_data(\"/content/IrisPetal.txt\", None)"
      ],
      "execution_count": 0,
      "outputs": []
    },
    {
      "cell_type": "code",
      "metadata": {
        "id": "H64RjesX8BRK",
        "colab_type": "code",
        "colab": {
          "base_uri": "https://localhost:8080/",
          "height": 446
        },
        "outputId": "efbe3c68-2888-4e52-96f3-a9533d4a5656"
      },
      "source": [
        "print(iris_train1)\n",
        "iris_train1.head()"
      ],
      "execution_count": 4,
      "outputs": [
        {
          "output_type": "stream",
          "text": [
            "      0    1               2\n",
            "0   1.4  0.2     Iris-setosa\n",
            "1   1.4  0.2     Iris-setosa\n",
            "2   1.3  0.2     Iris-setosa\n",
            "3   1.5  0.2     Iris-setosa\n",
            "4   1.4  0.2     Iris-setosa\n",
            "..  ...  ...             ...\n",
            "95  5.2  2.3  Iris-virginica\n",
            "96  5.0  1.9  Iris-virginica\n",
            "97  5.2  2.0  Iris-virginica\n",
            "98  5.4  2.3  Iris-virginica\n",
            "99  5.1  1.8  Iris-virginica\n",
            "\n",
            "[100 rows x 3 columns]\n"
          ],
          "name": "stdout"
        },
        {
          "output_type": "execute_result",
          "data": {
            "text/html": [
              "<div>\n",
              "<style scoped>\n",
              "    .dataframe tbody tr th:only-of-type {\n",
              "        vertical-align: middle;\n",
              "    }\n",
              "\n",
              "    .dataframe tbody tr th {\n",
              "        vertical-align: top;\n",
              "    }\n",
              "\n",
              "    .dataframe thead th {\n",
              "        text-align: right;\n",
              "    }\n",
              "</style>\n",
              "<table border=\"1\" class=\"dataframe\">\n",
              "  <thead>\n",
              "    <tr style=\"text-align: right;\">\n",
              "      <th></th>\n",
              "      <th>0</th>\n",
              "      <th>1</th>\n",
              "      <th>2</th>\n",
              "    </tr>\n",
              "  </thead>\n",
              "  <tbody>\n",
              "    <tr>\n",
              "      <th>0</th>\n",
              "      <td>1.4</td>\n",
              "      <td>0.2</td>\n",
              "      <td>Iris-setosa</td>\n",
              "    </tr>\n",
              "    <tr>\n",
              "      <th>1</th>\n",
              "      <td>1.4</td>\n",
              "      <td>0.2</td>\n",
              "      <td>Iris-setosa</td>\n",
              "    </tr>\n",
              "    <tr>\n",
              "      <th>2</th>\n",
              "      <td>1.3</td>\n",
              "      <td>0.2</td>\n",
              "      <td>Iris-setosa</td>\n",
              "    </tr>\n",
              "    <tr>\n",
              "      <th>3</th>\n",
              "      <td>1.5</td>\n",
              "      <td>0.2</td>\n",
              "      <td>Iris-setosa</td>\n",
              "    </tr>\n",
              "    <tr>\n",
              "      <th>4</th>\n",
              "      <td>1.4</td>\n",
              "      <td>0.2</td>\n",
              "      <td>Iris-setosa</td>\n",
              "    </tr>\n",
              "  </tbody>\n",
              "</table>\n",
              "</div>"
            ],
            "text/plain": [
              "     0    1            2\n",
              "0  1.4  0.2  Iris-setosa\n",
              "1  1.4  0.2  Iris-setosa\n",
              "2  1.3  0.2  Iris-setosa\n",
              "3  1.5  0.2  Iris-setosa\n",
              "4  1.4  0.2  Iris-setosa"
            ]
          },
          "metadata": {
            "tags": []
          },
          "execution_count": 4
        }
      ]
    },
    {
      "cell_type": "code",
      "metadata": {
        "id": "7FN9Dlu3BYQZ",
        "colab_type": "code",
        "colab": {
          "base_uri": "https://localhost:8080/",
          "height": 406
        },
        "outputId": "e77671ae-e9f2-4779-e5aa-5544913940de"
      },
      "source": [
        "# importing the preprocessing module from scikit-learn\n",
        "\n",
        "from sklearn import preprocessing\n",
        "LE= preprocessing.LabelEncoder()\n",
        "\n",
        "# Fitting it to our dataset\n",
        "\n",
        "iris_train1[2] = LE.fit_transform(iris_train1[2])\n",
        "iris_train1.head(100)"
      ],
      "execution_count": 5,
      "outputs": [
        {
          "output_type": "execute_result",
          "data": {
            "text/html": [
              "<div>\n",
              "<style scoped>\n",
              "    .dataframe tbody tr th:only-of-type {\n",
              "        vertical-align: middle;\n",
              "    }\n",
              "\n",
              "    .dataframe tbody tr th {\n",
              "        vertical-align: top;\n",
              "    }\n",
              "\n",
              "    .dataframe thead th {\n",
              "        text-align: right;\n",
              "    }\n",
              "</style>\n",
              "<table border=\"1\" class=\"dataframe\">\n",
              "  <thead>\n",
              "    <tr style=\"text-align: right;\">\n",
              "      <th></th>\n",
              "      <th>0</th>\n",
              "      <th>1</th>\n",
              "      <th>2</th>\n",
              "    </tr>\n",
              "  </thead>\n",
              "  <tbody>\n",
              "    <tr>\n",
              "      <th>0</th>\n",
              "      <td>1.4</td>\n",
              "      <td>0.2</td>\n",
              "      <td>0</td>\n",
              "    </tr>\n",
              "    <tr>\n",
              "      <th>1</th>\n",
              "      <td>1.4</td>\n",
              "      <td>0.2</td>\n",
              "      <td>0</td>\n",
              "    </tr>\n",
              "    <tr>\n",
              "      <th>2</th>\n",
              "      <td>1.3</td>\n",
              "      <td>0.2</td>\n",
              "      <td>0</td>\n",
              "    </tr>\n",
              "    <tr>\n",
              "      <th>3</th>\n",
              "      <td>1.5</td>\n",
              "      <td>0.2</td>\n",
              "      <td>0</td>\n",
              "    </tr>\n",
              "    <tr>\n",
              "      <th>4</th>\n",
              "      <td>1.4</td>\n",
              "      <td>0.2</td>\n",
              "      <td>0</td>\n",
              "    </tr>\n",
              "    <tr>\n",
              "      <th>...</th>\n",
              "      <td>...</td>\n",
              "      <td>...</td>\n",
              "      <td>...</td>\n",
              "    </tr>\n",
              "    <tr>\n",
              "      <th>95</th>\n",
              "      <td>5.2</td>\n",
              "      <td>2.3</td>\n",
              "      <td>1</td>\n",
              "    </tr>\n",
              "    <tr>\n",
              "      <th>96</th>\n",
              "      <td>5.0</td>\n",
              "      <td>1.9</td>\n",
              "      <td>1</td>\n",
              "    </tr>\n",
              "    <tr>\n",
              "      <th>97</th>\n",
              "      <td>5.2</td>\n",
              "      <td>2.0</td>\n",
              "      <td>1</td>\n",
              "    </tr>\n",
              "    <tr>\n",
              "      <th>98</th>\n",
              "      <td>5.4</td>\n",
              "      <td>2.3</td>\n",
              "      <td>1</td>\n",
              "    </tr>\n",
              "    <tr>\n",
              "      <th>99</th>\n",
              "      <td>5.1</td>\n",
              "      <td>1.8</td>\n",
              "      <td>1</td>\n",
              "    </tr>\n",
              "  </tbody>\n",
              "</table>\n",
              "<p>100 rows × 3 columns</p>\n",
              "</div>"
            ],
            "text/plain": [
              "      0    1  2\n",
              "0   1.4  0.2  0\n",
              "1   1.4  0.2  0\n",
              "2   1.3  0.2  0\n",
              "3   1.5  0.2  0\n",
              "4   1.4  0.2  0\n",
              "..  ...  ... ..\n",
              "95  5.2  2.3  1\n",
              "96  5.0  1.9  1\n",
              "97  5.2  2.0  1\n",
              "98  5.4  2.3  1\n",
              "99  5.1  1.8  1\n",
              "\n",
              "[100 rows x 3 columns]"
            ]
          },
          "metadata": {
            "tags": []
          },
          "execution_count": 5
        }
      ]
    },
    {
      "cell_type": "code",
      "metadata": {
        "id": "QXxEw2Wi9To-",
        "colab_type": "code",
        "colab": {}
      },
      "source": [
        "iris_train, iris_test = train_test_split(iris_train1, test_size=0.33, random_state=42)"
      ],
      "execution_count": 0,
      "outputs": []
    },
    {
      "cell_type": "code",
      "metadata": {
        "id": "s9Aoo-KLIADV",
        "colab_type": "code",
        "colab": {}
      },
      "source": [
        "# filter out the applicants that true\n",
        "true = iris_train.loc[iris_train[2] == 1]\n",
        "\n",
        "# filter out the applicants that are not true\n",
        "nottrue= iris_train.loc[iris_train[2] == 0]"
      ],
      "execution_count": 0,
      "outputs": []
    },
    {
      "cell_type": "code",
      "metadata": {
        "id": "6TAYnBAjIuuw",
        "colab_type": "code",
        "colab": {
          "base_uri": "https://localhost:8080/",
          "height": 282
        },
        "outputId": "8d4d4135-67cd-48e3-8926-2e7009dd3311"
      },
      "source": [
        "plt.scatter(true.iloc[:, 0], true.iloc[:, 1], s=10, label='true')\n",
        "plt.scatter(nottrue.iloc[:, 0], nottrue.iloc[:, 1], s=10,label='Not true')"
      ],
      "execution_count": 10,
      "outputs": [
        {
          "output_type": "execute_result",
          "data": {
            "text/plain": [
              "<matplotlib.collections.PathCollection at 0x7fd9dcbb1b38>"
            ]
          },
          "metadata": {
            "tags": []
          },
          "execution_count": 10
        },
        {
          "output_type": "display_data",
          "data": {
            "image/png": "[encoded data removed]",
            "text/plain": [
              "<Figure size 432x288 with 1 Axes>"
            ]
          },
          "metadata": {
            "tags": [],
            "needs_background": "light"
          }
        }
      ]
    },
    {
      "cell_type": "code",
      "metadata": {
        "id": "Hi9k5CbQ-_AD",
        "colab_type": "code",
        "colab": {}
      },
      "source": [
        "print(iris_train)\n",
        "print(\"-------------\")\n",
        "print(iris_test)"
      ],
      "execution_count": 0,
      "outputs": []
    },
    {
      "cell_type": "code",
      "metadata": {
        "id": "QjocsJwKBn91",
        "colab_type": "code",
        "colab": {
          "base_uri": "https://localhost:8080/",
          "height": 105
        },
        "outputId": "21562553-9332-4a7a-c41e-2ca2d22c232b"
      },
      "source": [
        "# Initializing all the weights as 0\n",
        "W0_new = 0\n",
        "W1_new = 0\n",
        "W2_new = 0\n",
        "W3_new = 0\n",
        "W4_new = 0\n",
        "\n",
        "# Alpha\n",
        "a = 0.02\n",
        "\n",
        "# MSE\n",
        "MSE = np.array([])\n",
        "\n",
        "#sigmoid function \n",
        "def sigmoid(output):\n",
        "    z = 1/(1+math.exp(-output)) \n",
        "    return z\n",
        "\n",
        "for epoch in range(len(iris_train)):\n",
        "    \n",
        "    p_preds = np.array([])\n",
        "    p_pred_exps = np.array([])\n",
        "    error = np.array([])\n",
        "    error_x1 = np.array([])\n",
        "    error_x2 = np.array([])\n",
        "    p_class = np.array([])\n",
        "    \n",
        "    # Assigning all the weights their new values after an epoch:\n",
        "    W0 = W0_new\n",
        "    W1 = W1_new\n",
        "    W2 = W2_new\n",
        "    W3 = W3_new\n",
        "    W4 = W4_new\n",
        "    \n",
        "    # Iterating through the Df and calculating all parameters:\n",
        "    for row in iris_train.itertuples():\n",
        "        \n",
        "        #The predicted value:\n",
        "        p_pred = W0 + W1*row[0]+ W2*row[1]\n",
        "        p_preds = np.append(p_preds, p_pred)\n",
        "        \n",
        "        # Predicted value after applying the sigmoid function\n",
        "        p_pred_exp = sigmoid(p_pred)\n",
        "        p_pred_exps = np.append(p_pred_exps, p_pred_exp)   \n",
        "        \n",
        "        # Bifurcating the predicted class as per its probability to be the default class\n",
        "    \n",
        "        if p_pred_exp > 0.5:\n",
        "            p_class = np.append(p_class,1)\n",
        "        else:\n",
        "            p_class = np.append(p_class,0)\n",
        "     \n",
        "    # The error in prediction\n",
        "    error = p_pred_exps - iris_train[2]\n",
        "    # Pre-calculating the error*x values for all the weights:\n",
        "    error_x1 = error*iris_train[0]\n",
        "    error_x2 = error*iris_train[1]\n",
        "    \n",
        "    \n",
        "    # Calculating MSE\n",
        "    MSE_val = (error).mean()\n",
        "    MSE = np.append(MSE,MSE_val)\n",
        "    \n",
        "    # Updating the weights\n",
        "    W0_new = W0 - a*np.sum(error)\n",
        "    W1_new = W1 - a*np.sum(error_x1)\n",
        "    W2_new = W2 - a*np.sum(error_x2)\n",
        "    \n",
        "\n",
        "# Adding the predicted class as a separate column to check for performance:\n",
        "iris_train['pred_class']=p_class"
      ],
      "execution_count": 11,
      "outputs": [
        {
          "output_type": "stream",
          "text": [
            "/usr/local/lib/python3.6/dist-packages/ipykernel_launcher.py:70: SettingWithCopyWarning: \n",
            "A value is trying to be set on a copy of a slice from a DataFrame.\n",
            "Try using .loc[row_indexer,col_indexer] = value instead\n",
            "\n",
            "See the caveats in the documentation: https://pandas.pydata.org/pandas-docs/stable/user_guide/indexing.html#returning-a-view-versus-a-copy\n"
          ],
          "name": "stderr"
        }
      ]
    },
    {
      "cell_type": "code",
      "metadata": {
        "id": "rbA_WxDiLeSX",
        "colab_type": "code",
        "colab": {
          "base_uri": "https://localhost:8080/",
          "height": 247
        },
        "outputId": "ef39ce3a-4dc9-47f9-b195-82fcb983282a"
      },
      "source": [
        "ax = plt.axes(projection='3d')\n",
        "\n",
        "# Data for a three-dimensional line\n",
        "zline = p_pred_exps\n",
        "xline = iris_train[0]\n",
        "yline = iris_train[1]\n",
        "ax.plot3D(xline, yline, zline, 'gray')\n",
        "\n",
        "# Data for three-dimensional scattered points\n",
        "zdata = p_pred_exps\n",
        "xdata = iris_train[0]\n",
        "ydata = iris_train[1]\n",
        "ax.scatter3D(xdata, ydata, zdata, c=zdata, cmap='Greens');"
      ],
      "execution_count": 23,
      "outputs": [
        {
          "output_type": "display_data",
          "data": {
            "image/png": "[encoded data removed]",
            "text/plain": [
              "<Figure size 432x288 with 1 Axes>"
            ]
          },
          "metadata": {
            "tags": [],
            "needs_background": "light"
          }
        }
      ]
    },
    {
      "cell_type": "code",
      "metadata": {
        "id": "8WIKECBAJhVA",
        "colab_type": "code",
        "colab": {
          "base_uri": "https://localhost:8080/",
          "height": 278
        },
        "outputId": "38c9fba0-2535-4520-bfde-f03ad89fe8d0"
      },
      "source": [
        "plt.scatter(true.iloc[:, 0], true.iloc[:, 1], s=10, label='true')\n",
        "plt.scatter(nottrue.iloc[:, 0], nottrue.iloc[:, 1], s=10,label='Not true')\n",
        "plt.plot(iris_train[0],p_pred_exps, label='Decision Boundary')\n",
        "plt.xlabel('1st attribute')\n",
        "plt.ylabel('hypothesis')\n",
        "plt.legend()\n",
        "plt.show()"
      ],
      "execution_count": 29,
      "outputs": [
        {
          "output_type": "display_data",
          "data": {
            "image/png": "[encoded data removed]",
            "text/plain": [
              "<Figure size 432x288 with 1 Axes>"
            ]
          },
          "metadata": {
            "tags": [],
            "needs_background": "light"
          }
        }
      ]
    },
    {
      "cell_type": "code",
      "metadata": {
        "id": "IH3W0UReCFFo",
        "colab_type": "code",
        "colab": {
          "base_uri": "https://localhost:8080/",
          "height": 265
        },
        "outputId": "29c54881-a85b-4aa9-e5a8-158d72eedfab"
      },
      "source": [
        "print(iris_train)"
      ],
      "execution_count": 10,
      "outputs": [
        {
          "output_type": "stream",
          "text": [
            "      0    1  2  pred_class\n",
            "28  1.4  0.2  0         0.0\n",
            "93  5.9  2.3  1         1.0\n",
            "5   1.7  0.4  0         0.0\n",
            "66  5.5  1.8  1         1.0\n",
            "65  5.3  2.3  1         1.0\n",
            "..  ...  ... ..         ...\n",
            "60  5.1  2.0  1         1.0\n",
            "71  4.9  2.0  1         1.0\n",
            "14  1.2  0.2  0         0.0\n",
            "92  5.1  1.9  1         1.0\n",
            "51  5.1  1.9  1         1.0\n",
            "\n",
            "[67 rows x 4 columns]\n"
          ],
          "name": "stdout"
        }
      ]
    },
    {
      "cell_type": "code",
      "metadata": {
        "id": "4rDlDHXqCilA",
        "colab_type": "code",
        "colab": {
          "base_uri": "https://localhost:8080/",
          "height": 34
        },
        "outputId": "57091102-d12a-4b07-8340-6f880236a269"
      },
      "source": [
        "# Checking how many mis-classifications did our model come out with\n",
        "\n",
        "iris_train.pred_class.astype('int64')\n",
        "iris_train[iris_train.pred_class != iris_train[2]]\n",
        "\n",
        "# Checking the final weights \n",
        "print(W0_new,W1_new,W2_new,W3_new,W4_new)"
      ],
      "execution_count": 11,
      "outputs": [
        {
          "output_type": "stream",
          "text": [
            "-12.207017163157241 -0.07436424108314209 4.905172598610876 0 0\n"
          ],
          "name": "stdout"
        }
      ]
    },
    {
      "cell_type": "code",
      "metadata": {
        "id": "_JQwmxKNCup0",
        "colab_type": "code",
        "colab": {
          "base_uri": "https://localhost:8080/",
          "height": 87
        },
        "outputId": "1e7c5cd9-107f-4818-fa48-da8cb7423ac3"
      },
      "source": [
        "\n",
        "# True Positives:\n",
        "print('TP: ',iris_train[2][(iris_train[2]==1) & (iris_train.pred_class==1)].count())\n",
        "# False Positives:\n",
        "print('FP: ',iris_train[2][(iris_train[2]==0) & (iris_train.pred_class==1)].count())\n",
        "#True Negatives:\n",
        "print('TN: ',iris_train[2][(iris_train[2]==0) & (iris_train.pred_class==0)].count())\n",
        "#False Negatives:\n",
        "print('FN: ',iris_train[2][(iris_train[2]==1) & (iris_train.pred_class==0)].count())"
      ],
      "execution_count": 12,
      "outputs": [
        {
          "output_type": "stream",
          "text": [
            "TP:  36\n",
            "FP:  0\n",
            "TN:  31\n",
            "FN:  0\n"
          ],
          "name": "stdout"
        }
      ]
    },
    {
      "cell_type": "code",
      "metadata": {
        "id": "U90nwZZPE2j6",
        "colab_type": "code",
        "colab": {
          "base_uri": "https://localhost:8080/",
          "height": 52
        },
        "outputId": "f29a19a4-9da8-45a7-a462-8276fb5aa377"
      },
      "source": [
        "print(iris_test.shape)\n",
        "print(iris_test.itertuples())\n"
      ],
      "execution_count": 13,
      "outputs": [
        {
          "output_type": "stream",
          "text": [
            "(33, 3)\n",
            "<map object at 0x7f088571ba58>\n"
          ],
          "name": "stdout"
        }
      ]
    },
    {
      "cell_type": "code",
      "metadata": {
        "id": "d-lpqw2yDT6h",
        "colab_type": "code",
        "colab": {}
      },
      "source": [
        "p_class_test = np.array([])\n",
        "for row in iris_test.itertuples():\n",
        "    \n",
        "    p_pred = W0_new + W1_new*row[0]+ W2_new*row[1] \n",
        "    p_pred_exp = sigmoid(p_pred)   #predicted value\n",
        "        \n",
        "    if p_pred_exp > 0.5:\n",
        "        p_class_test = np.append(p_class_test,1)\n",
        "    else:\n",
        "        p_class_test = np.append(p_class_test,0)"
      ],
      "execution_count": 0,
      "outputs": []
    },
    {
      "cell_type": "code",
      "metadata": {
        "id": "OWv3QZnBEG7T",
        "colab_type": "code",
        "colab": {
          "base_uri": "https://localhost:8080/",
          "height": 194
        },
        "outputId": "e9229ad5-8ecf-432c-8ab7-ca75cfffc0e8"
      },
      "source": [
        "# Adding the predicted class column\n",
        "iris_test['Pred_class'] = p_class_test\n",
        "\n",
        "#Building the Confusion Matrix:\n",
        "iris_test.Pred_class.astype('int64')\n",
        "print('TP: ',iris_test[2][(iris_test[2]==1) & (iris_test.Pred_class==1)].count())\n",
        "tp=iris_test[2][(iris_test[2]==1) & (iris_test.Pred_class==1)].count()\n",
        "print('FP: ',iris_test[2][(iris_test[2]==0) & (iris_test.Pred_class==1)].count())\n",
        "fp=iris_test[2][(iris_test[2]==0) & (iris_test.Pred_class==1)].count()\n",
        "print('TN: ',iris_test[2][(iris_test[2]==0) & (iris_test.Pred_class==0)].count())\n",
        "tn=iris_test[2][(iris_test[2]==0) & (iris_test.Pred_class==0)].count()\n",
        "print('FN: ',iris_test[2][(iris_test[2]==1) & (iris_test.Pred_class==0)].count())\n",
        "fn=iris_test[2][(iris_test[2]==1) & (iris_test.Pred_class==0)].count()"
      ],
      "execution_count": 18,
      "outputs": [
        {
          "output_type": "stream",
          "text": [
            "TP:  14\n",
            "FP:  0\n",
            "TN:  19\n",
            "FN:  0\n"
          ],
          "name": "stdout"
        },
        {
          "output_type": "stream",
          "text": [
            "/usr/local/lib/python3.6/dist-packages/ipykernel_launcher.py:1: SettingWithCopyWarning: \n",
            "A value is trying to be set on a copy of a slice from a DataFrame.\n",
            "Try using .loc[row_indexer,col_indexer] = value instead\n",
            "\n",
            "See the caveats in the documentation: https://pandas.pydata.org/pandas-docs/stable/user_guide/indexing.html#returning-a-view-versus-a-copy\n",
            "  \"\"\"Entry point for launching an IPython kernel.\n"
          ],
          "name": "stderr"
        }
      ]
    },
    {
      "cell_type": "code",
      "metadata": {
        "id": "zJHbpOfaGZyS",
        "colab_type": "code",
        "colab": {
          "base_uri": "https://localhost:8080/",
          "height": 87
        },
        "outputId": "29c8b97d-070f-4c3c-bc47-24b6be1e79c6"
      },
      "source": [
        "accuracy=(tp + tn) / (tp + tn + fn + fp)\n",
        "\n",
        "print('Accuracy: %f' % accuracy)\n",
        "precision= tp / (tp + fp)\n",
        "\n",
        "print('Precision: %f' % precision)\n",
        "recall= tp / (tp + fn)\n",
        "\n",
        "print('Recall: %f' % recall)\n",
        "f1= 2*tp / (2 *tp + fp + fn)\n",
        "\n",
        "print('f1-score: %f' % f1)"
      ],
      "execution_count": 21,
      "outputs": [
        {
          "output_type": "stream",
          "text": [
            "Accuracy: 1.000000\n",
            "Precision: 1.000000\n",
            "Recall: 1.000000\n",
            "f1-score: 1.000000\n"
          ],
          "name": "stdout"
        }
      ]
    }
  ]
}