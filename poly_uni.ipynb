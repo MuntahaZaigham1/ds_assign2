{
  "nbformat": 4,
  "nbformat_minor": 0,
  "metadata": {
    "colab": {
      "name": "Untitled3.ipynb",
      "provenance": [],
      "authorship_tag": "ABX9TyMEJHEEVRgUsGbpjcfRRKwb",
      "include_colab_link": true
    },
    "kernelspec": {
      "name": "python3",
      "display_name": "Python 3"
    }
  },
  "cells": [
    {
      "cell_type": "markdown",
      "metadata": {
        "id": "view-in-github",
        "colab_type": "text"
      },
      "source": [
        "<a href=\"https://colab.research.google.com/github/MuntahaZaigham1/ds_assign2/blob/master/poly_uni.ipynb\" target=\"_parent\"><img src=\"https://colab.research.google.com/assets/colab-badge.svg\" alt=\"Open In Colab\"/></a>"
      ]
    },
    {
      "cell_type": "code",
      "metadata": {
        "id": "Qlcn-SPZXVCk",
        "colab_type": "code",
        "colab": {}
      },
      "source": [
        "import numpy as np\n",
        "import pandas as pd\n",
        "import matplotlib.pyplot as plt\n",
        "import sys\n",
        "import plotly"
      ],
      "execution_count": 0,
      "outputs": []
    },
    {
      "cell_type": "code",
      "metadata": {
        "id": "2CiGaD3QXiHn",
        "colab_type": "code",
        "colab": {}
      },
      "source": [
        "data = np.loadtxt('/content/polynomialRegressionData.csv', delimiter=',')\n",
        "#X_train = data[:,1] #the feature_set\n",
        "#y_train = data[:,2] #the labels\n",
        "No_of_cols = data.shape[1]\n",
        "\n",
        "X_train1 = data[:,[No_of_cols - 3]] #feature set\n",
        "X_train2 = data[:,[No_of_cols - 2]] #feature set\n",
        "\n",
        "y_train = data[:, [No_of_cols - 1]] #label set\n",
        "\n",
        "print(X_train1)"
      ],
      "execution_count": 0,
      "outputs": []
    },
    {
      "cell_type": "code",
      "metadata": {
        "id": "BZNwfQflXw3b",
        "colab_type": "code",
        "colab": {}
      },
      "source": [
        "fig = plt.figure()\n",
        "ax = plt.axes(projection=\"3d\")\n",
        "\n",
        "z_points = y_train\n",
        "x_points = X_train1\n",
        "y_points = X_train2\n",
        "ax.scatter3D(x_points, y_points, z_points, c=z_points, cmap='hsv');\n",
        "ax.set_xlabel('x1')\n",
        "ax.set_ylabel('x2')\n",
        "ax.set_zlabel('defects')\n",
        "\n",
        "plt.show()"
      ],
      "execution_count": 0,
      "outputs": []
    },
    {
      "cell_type": "code",
      "metadata": {
        "id": "Qo62Uw8tXz4B",
        "colab_type": "code",
        "colab": {}
      },
      "source": [
        "def hypothesis(theta, X, n):\n",
        "    h = np.ones((X.shape[0],1))\n",
        "    theta = theta.reshape(1,n+1)\n",
        "    #print(theta)\n",
        "    #print(x_array)\n",
        "    for i in range(0,X.shape[0]):\n",
        "      x_array = np.ones(n+1,dtype=object)\n",
        "      for j in range(0,n+1):\n",
        "          x_array[j] = np.power(X[i],j)\n",
        "      x_array = x_array.reshape(n+1,1)\n",
        "      #print(x_array)\n",
        "      h[i] = float(np.matmul(theta, x_array))\n",
        "      #print(h[i])\n",
        "    h = h.reshape(X.shape[0])\n",
        "    #print(h)\n",
        "    return h\n",
        "    #for i in range(0,X.shape[0]):\n",
        "        #x_array = np.ones(n+1,dtype=object)\n",
        "        #for j in range(0,n+1):\n",
        "            #x_array[j] = np.power(X[i],j)\n",
        "        #x_array = x_array.reshape(n+1,1)\n",
        "        #h[i] = float(np.matmul(theta, x_array))\n",
        "    #h = h.reshape(X.shape[0])\n",
        "    #return h"
      ],
      "execution_count": 0,
      "outputs": []
    },
    {
      "cell_type": "code",
      "metadata": {
        "id": "0LtS7JVbX7Xa",
        "colab_type": "code",
        "colab": {}
      },
      "source": [
        "def BGD(theta, alpha, num_iters, h, X, y, n):\n",
        "    theta_history = np.ones((num_iters,n+1),dtype=object)\n",
        "    cost = np.ones(num_iters)\n",
        "    for i in range(0,num_iters):\n",
        "        theta[0] = theta[0] - (alpha/X.shape[0]) * sum(h - y)\n",
        "        for j in range(1,n+1):\n",
        "            theta[j]=theta[j]-(alpha/X.shape[0])*sum((h-y)*pow(X,j))\n",
        "        theta_history[i] = theta\n",
        "        h = hypothesis(theta, X, n)\n",
        "        cost[i] = (1/X.shape[0]) * 0.5 * sum(np.square(h - y))\n",
        "    theta = theta.reshape(1,n+1)\n",
        "    return theta, theta_history, cost"
      ],
      "execution_count": 0,
      "outputs": []
    },
    {
      "cell_type": "code",
      "metadata": {
        "id": "OTvvQPi6YF9g",
        "colab_type": "code",
        "colab": {}
      },
      "source": [
        "def poly_regression(X, y, alpha, n, num_iters):\n",
        "    # initializing the parameter vector…\n",
        "    theta = np.ones(n+1,dtype=object)\n",
        "    # hypothesis calculation….\n",
        "    #print(theta)\n",
        "    h = hypothesis(theta, X, n)\n",
        "    print(theta)\n",
        "    print(h)\n",
        "    # returning the optimized parameters by Gradient Descent\n",
        "    #theta,theta_history,cost=BGD(theta,alpha,num_iters,h, X, y, n)\n",
        "    #return theta, theta_history, cost"
      ],
      "execution_count": 0,
      "outputs": []
    },
    {
      "cell_type": "code",
      "metadata": {
        "id": "dc5kNs5HYLlx",
        "colab_type": "code",
        "colab": {
          "base_uri": "https://localhost:8080/",
          "height": 454
        },
        "outputId": "b733c52c-b7e9-491c-919d-bcde605ad49a"
      },
      "source": [
        "#theta,theta_history,cost=\n",
        "poly_regression(X_train1,y_train,0.00001,2,300000)"
      ],
      "execution_count": 87,
      "outputs": [
        {
          "output_type": "stream",
          "text": [
            "[1 1 1]\n",
            "[5.5300e+02 2.7300e+02 1.3000e+01 3.8100e+02 4.3000e+01 1.3000e+01\n",
            " 1.3000e+01 1.3000e+01 2.1000e+01 1.3000e+01 3.1000e+01 1.0000e+00\n",
            " 2.1000e+01 1.0000e+00 1.0000e+00 5.5300e+02 4.2100e+02 1.0000e+00\n",
            " 1.0000e+00 1.0000e+00 7.0000e+00 1.0000e+00 1.0000e+00 1.0000e+00\n",
            " 2.1100e+02 7.3000e+01 5.7000e+01 5.0700e+02 3.1000e+01 1.0000e+00\n",
            " 1.0000e+00 2.1000e+01 2.1000e+01 1.0000e+00 1.0000e+00 1.0000e+00\n",
            " 1.0000e+00 1.0000e+00 1.0000e+00 2.1000e+01 1.0000e+00 7.0000e+00\n",
            " 1.0000e+00 5.7000e+01 1.0000e+00 3.0000e+00 1.0000e+00 2.1000e+01\n",
            " 9.1000e+01 1.0000e+00 1.0000e+00 7.3000e+01 1.0303e+04 1.0000e+00\n",
            " 1.0000e+00 1.0000e+00 1.0000e+00 1.0000e+00 1.0000e+00 1.0000e+00\n",
            " 1.0000e+00 1.0000e+00 7.0000e+00 3.1000e+01 4.3000e+01 7.3000e+01\n",
            " 9.1000e+01 1.0000e+00 2.0710e+03 2.0710e+03 1.6410e+03 1.0000e+00\n",
            " 1.3000e+01 3.1000e+01 1.0000e+00 5.7000e+01 1.0000e+00 1.5700e+02\n",
            " 1.8070e+03 6.0100e+02 3.0700e+02 7.3000e+01 2.1000e+01 4.3000e+01\n",
            " 1.3000e+01 3.0700e+02 9.1000e+01 1.0000e+00 1.0000e+00 1.0570e+03\n",
            " 4.2100e+02 2.1100e+02 1.3000e+01 7.0000e+00 1.0000e+00 4.3000e+01\n",
            " 3.8100e+02 1.8300e+02 1.0000e+00 1.0000e+00 1.0000e+00 1.0000e+00\n",
            " 4.3000e+01 1.0000e+00 7.0000e+00 1.0000e+00 3.0000e+00 1.0000e+00\n",
            " 1.0000e+00 1.0000e+00 1.0000e+00 1.0000e+00 1.0000e+00 1.0000e+00\n",
            " 1.0000e+00 3.0000e+00 1.0000e+00 1.0000e+00 1.0000e+00 7.0300e+02\n",
            " 2.1000e+01 1.0000e+00 1.0000e+00 4.3000e+01 1.0000e+00 1.3300e+02\n",
            " 1.3300e+02 1.3000e+01 1.0000e+00 1.8300e+02 1.0000e+00 1.0000e+00\n",
            " 1.0000e+00 1.0000e+00 1.0000e+00 1.0000e+00 1.0000e+00 1.0000e+00\n",
            " 1.0000e+00 1.0000e+00 1.0000e+00 1.0000e+00 1.0000e+00 1.0000e+00\n",
            " 1.0000e+00]\n"
          ],
          "name": "stdout"
        }
      ]
    }
  ]
}